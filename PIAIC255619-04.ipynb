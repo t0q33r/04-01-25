{
 "cells": [
  {
   "cell_type": "code",
   "execution_count": 34,
   "metadata": {},
   "outputs": [],
   "source": [
    "#Store the names of a few of your friends in a list called names. Print each person’s name by accessing each element in the list, one at a time.\n",
    "names = ['Ahmed', 'Aslam', 'Usman']\n"
   ]
  },
  {
   "cell_type": "code",
   "execution_count": 35,
   "metadata": {},
   "outputs": [
    {
     "name": "stdout",
     "output_type": "stream",
     "text": [
      "Dear Ahmed greetings from me, you are invited to my party\n",
      "Dear Aslam greetings from me, you are invited to my party\n",
      "Dear Usman greetings from me, you are invited to my party\n"
     ]
    }
   ],
   "source": [
    "#Start with the list you used in Exercise 3-1, but instead of just printing each person’s name, print a message to them. The text of each message should be the same, but each message should be personalized with the person’s name.\n",
    "print(f'Dear {names[0]} greetings from me, you are invited to my party')\n",
    "print(f'Dear {names[1]} greetings from me, you are invited to my party')\n",
    "print(f'Dear {names[2]} greetings from me, you are invited to my party')"
   ]
  },
  {
   "cell_type": "code",
   "execution_count": 36,
   "metadata": {},
   "outputs": [
    {
     "name": "stdout",
     "output_type": "stream",
     "text": [
      "I would like to own a honda brv car\n"
     ]
    }
   ],
   "source": [
    "# Think of your favorite mode of transportation, such as a motorcycle or a car, and make a list that stores several examples. Use your list to print a series of statements about these items such as I would like to own a Honda motorcycle.\n",
    "\n",
    "vechiles = ['suzuki', 'honda', 'hyundai', 'united']\n",
    "print(f'I would like to own a {vechiles[1]} brv car')"
   ]
  },
  {
   "cell_type": "code",
   "execution_count": 37,
   "metadata": {},
   "outputs": [
    {
     "name": "stdout",
     "output_type": "stream",
     "text": [
      "Hey Ahmed lets dinner together\n",
      "Hey Aslam lets dinner together\n",
      "Hey Usman lets dinner together\n"
     ]
    }
   ],
   "source": [
    "# If you could invite anyone, living or deceased, to dinner, who would you invite? Make a list that includes at least three people you’d like to invite to dinner. Then use your list to print a message to each person, inviting them to dinner.\n",
    "print(f'Hey {names[0]} lets dinner together')\n",
    "print(f'Hey {names[1]} lets dinner together')\n",
    "print(f'Hey {names[2]} lets dinner together')"
   ]
  },
  {
   "cell_type": "code",
   "execution_count": 38,
   "metadata": {},
   "outputs": [
    {
     "name": "stdout",
     "output_type": "stream",
     "text": [
      "Usman can not make it to dinner\n",
      "list of new guests\n",
      "Hey Ahmed lets dinner together\n",
      "Hey Aslam lets dinner together\n",
      "Hey Ali lets dinner together\n"
     ]
    }
   ],
   "source": [
    "# You just heard that one of your guests can’t make the dinner, so you need to send out a new set of invitations.\n",
    "\n",
    "# Start with your program from Exercise 3-4. Add a print() call at the end of your program, stating the name of the guest who can’t make it.\n",
    "# Modify your list, replacing the name of the guest who can’t make it with the name of the new person you are inviting.\n",
    "# Print a second set of invitation messages, one for each person who is still in your list.\n",
    "print(f'{names[2]} can not make it to dinner')\n",
    "names[2] = 'Ali'\n",
    "print('list of new guests')\n",
    "print(f'Hey {names[0]} lets dinner together')\n",
    "print(f'Hey {names[1]} lets dinner together')\n",
    "print(f'Hey {names[2]} lets dinner together')"
   ]
  },
  {
   "cell_type": "code",
   "execution_count": 39,
   "metadata": {},
   "outputs": [
    {
     "name": "stdout",
     "output_type": "stream",
     "text": [
      "We have found a bigger table\n",
      "Hey Akbar lets dinner together\n",
      "Hey Ahmed lets dinner together\n",
      "Hey Asad lets dinner together\n",
      "Hey Aslam lets dinner together\n",
      "Hey Ali lets dinner together\n",
      "Hey Adeel lets dinner together\n"
     ]
    }
   ],
   "source": [
    "# You just found a bigger dinner table, so now more space is available. Think of three more guests to invite to dinner.\n",
    "\n",
    "# Start with your program from Exercise 3-4 or 3-5. Add a print() call to the end of your program, informing people that you found a bigger table.\n",
    "# Use insert() to add one new guest to the beginning of your list.\n",
    "# Use insert() to add one new guest to the middle of your list.\n",
    "# Use append() to add one new guest to the end of your list.\n",
    "# Print a new set of invitation messages, one for each person in your list.\n",
    "print('We have found a bigger table')\n",
    "names.insert(0, 'Akbar')\n",
    "names.insert(2, 'Asad')\n",
    "names.append('Adeel')\n",
    "print(f'Hey {names[0]} lets dinner together')\n",
    "print(f'Hey {names[1]} lets dinner together')\n",
    "print(f'Hey {names[2]} lets dinner together')\n",
    "print(f'Hey {names[3]} lets dinner together')\n",
    "print(f'Hey {names[4]} lets dinner together')\n",
    "print(f'Hey {names[5]} lets dinner together')"
   ]
  },
  {
   "cell_type": "code",
   "execution_count": 40,
   "metadata": {},
   "outputs": [
    {
     "name": "stdout",
     "output_type": "stream",
     "text": [
      "We can only invite two people for dinner\n",
      "Sorry Adeel you are not invited\n",
      "Sorry Ali you are not invited\n",
      "Sorry Aslam you are not invited\n",
      "Sorry Asad you are not invited\n",
      "Hey Akbar you are still invited\n",
      "Hey Ahmed you are still invited\n",
      "[]\n"
     ]
    }
   ],
   "source": [
    "# You just found out that your new dinner table won’t arrive in time for the dinner, and now you have space for only two guests.\n",
    "\n",
    "# Start with your program from Exercise 3-6. Add a new line that prints a message saying that you can invite only two people for dinner.\n",
    "# Use pop() to remove guests from your list one at a time until only two names remain in your list. Each time you pop a name from your list, print a message to that person letting them know   you’re sorry you can’t invite them to dinner.\n",
    "# Print a message to each of the two people still on your list, letting them know they’re still invited.\n",
    "# Use del to remove the last two names from your list, so you have an empty list. Print your list to make sure you actually have an empty list at the end of your program.\n",
    "print('We can only invite two people for dinner')\n",
    "print(f'Sorry {names.pop()} you are not invited')\n",
    "print(f'Sorry {names.pop()} you are not invited')\n",
    "print(f'Sorry {names.pop()} you are not invited')\n",
    "print(f'Sorry {names.pop()} you are not invited')\n",
    "print(f'Hey {names[0]} you are still invited')\n",
    "print(f'Hey {names[1]} you are still invited')\n",
    "del names[0]\n",
    "del names[0]\n",
    "print(names)"
   ]
  },
  {
   "cell_type": "code",
   "execution_count": 41,
   "metadata": {},
   "outputs": [
    {
     "name": "stdout",
     "output_type": "stream",
     "text": [
      "original list\n",
      "['Saudia', 'Turkey', 'Dubai', 'Paris', 'London', 'New York']\n",
      "\n",
      "sorted list with sorted()\n",
      "['Dubai', 'London', 'New York', 'Paris', 'Saudia', 'Turkey']\n",
      "['Saudia', 'Turkey', 'Dubai', 'Paris', 'London', 'New York']\n",
      "\n",
      "sorted list with sorted() reverse\n",
      "['Turkey', 'Saudia', 'Paris', 'New York', 'London', 'Dubai']\n",
      "['Saudia', 'Turkey', 'Dubai', 'Paris', 'London', 'New York']\n",
      "\n",
      "reverse list with .reverse()\n",
      "['New York', 'London', 'Paris', 'Dubai', 'Turkey', 'Saudia']\n",
      "\n",
      "reverse list with .reverse()\n",
      "['Saudia', 'Turkey', 'Dubai', 'Paris', 'London', 'New York']\n",
      "\n",
      "sort list with .sort()\n",
      "['Dubai', 'London', 'New York', 'Paris', 'Saudia', 'Turkey']\n",
      "\n",
      "sort list with .sort() reverse\n",
      "['Turkey', 'Saudia', 'Paris', 'New York', 'London', 'Dubai']\n",
      "\n"
     ]
    }
   ],
   "source": [
    "# Think of at least five places in the world you’d like to visit.\n",
    "\n",
    "# Store the locations in a list. Make sure the list is not in alphabetical order.\n",
    "# Print your list in its original order. Don’t worry about printing the list neatly; just print it as a raw Python list.\n",
    "# Use sorted() to print your list in alphabetical order without modifying the actual list.\n",
    "# Show that your list is still in its original order by printing it.\n",
    "# Use sorted() to print your list in reverse-alphabetical order without changing the order of the original list.\n",
    "# Show that your list is still in its original order by printing it again.\n",
    "# Use reverse() to change the order of your list. Print the list to show that its order has changed.\n",
    "# Use reverse() to change the order of your list again. Print the list to show it’s back to its original order.\n",
    "# Use sort() to change your list so it’s stored in alphabetical order. Print the list to show that its order has been changed.\n",
    "# Use sort() to change your list so it’s stored in reverse-alphabetical order. Print the list to show that its order has changed.\n",
    "locations = ['Saudia', 'Turkey', 'Dubai', 'Paris', 'London', 'New York']\n",
    "print('original list')\n",
    "print(locations)\n",
    "print()\n",
    "\n",
    "print('sorted list with sorted()')\n",
    "print(sorted(locations))\n",
    "print(locations)\n",
    "print()\n",
    "\n",
    "print('sorted list with sorted() reverse')\n",
    "print(sorted(locations, reverse=True))\n",
    "print(locations)\n",
    "print()\n",
    "\n",
    "print('reverse list with .reverse()')\n",
    "locations.reverse()\n",
    "print(locations)\n",
    "print()\n",
    "\n",
    "print('reverse list with .reverse()')\n",
    "locations.reverse()\n",
    "print(locations)\n",
    "print()\n",
    "\n",
    "print('sort list with .sort()')\n",
    "locations.sort()\n",
    "print(locations)\n",
    "print()\n",
    "\n",
    "print('sort list with .sort() reverse')\n",
    "locations.sort(reverse=True)\n",
    "print(locations)\n",
    "print()"
   ]
  },
  {
   "cell_type": "code",
   "execution_count": 42,
   "metadata": {},
   "outputs": [
    {
     "name": "stdout",
     "output_type": "stream",
     "text": [
      "The number of people invited to dinner are 0\n"
     ]
    }
   ],
   "source": [
    "# Working with one of the programs from Exercises 3-4 through 3-7, use len() to print a message indicating the number of people you’re inviting to dinner.\n",
    "print(f'The number of people invited to dinner are {len(names)}')"
   ]
  },
  {
   "cell_type": "code",
   "execution_count": 43,
   "metadata": {},
   "outputs": [
    {
     "name": "stdout",
     "output_type": "stream",
     "text": [
      "['Urdu', 'English', 'Arabic', 'Turkish', 'Spanish']\n",
      "['Arabic', 'English', 'Spanish', 'Turkish', 'Urdu']\n",
      "['Urdu', 'English', 'Arabic', 'Turkish', 'Spanish']\n",
      "['Spanish', 'Turkish', 'Arabic', 'English', 'Urdu']\n",
      "['Arabic', 'English', 'Spanish', 'Turkish', 'Urdu']\n",
      "['Urdu', 'Turkish', 'Spanish', 'English', 'Arabic']\n",
      "5\n"
     ]
    }
   ],
   "source": [
    "# Think of things you could store in a list. For example, you could make a list of mountains, rivers, countries, cities, languages, or anything else you’d like. Write a program that creates a list containing these items and then uses each function introduced in this chapter at least once.\n",
    "languages = ['Urdu', 'English', 'Arabic', 'Turkish', 'Spanish']\n",
    "print(languages)\n",
    "print(sorted(languages))\n",
    "print(languages)\n",
    "languages.reverse()\n",
    "print(languages)\n",
    "languages.sort()\n",
    "print(languages)\n",
    "languages.sort(reverse=True)\n",
    "print(languages)\n",
    "print(len(languages))"
   ]
  },
  {
   "cell_type": "code",
   "execution_count": null,
   "metadata": {},
   "outputs": [],
   "source": [
    "# new comment"
   ]
  }
 ],
 "metadata": {
  "kernelspec": {
   "display_name": "Python 3",
   "language": "python",
   "name": "python3"
  },
  "language_info": {
   "codemirror_mode": {
    "name": "ipython",
    "version": 3
   },
   "file_extension": ".py",
   "mimetype": "text/x-python",
   "name": "python",
   "nbconvert_exporter": "python",
   "pygments_lexer": "ipython3",
   "version": "3.13.0"
  }
 },
 "nbformat": 4,
 "nbformat_minor": 2
}
